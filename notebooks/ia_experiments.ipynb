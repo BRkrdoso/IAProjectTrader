{
  "nbformat": 4,
  "nbformat_minor": 0,
  "metadata": {
    "colab": {
      "provenance": [],
      "authorship_tag": "ABX9TyMcgqH1bxhbLPBKgRFzBPfo",
      "include_colab_link": true
    },
    "kernelspec": {
      "name": "python3",
      "display_name": "Python 3"
    },
    "language_info": {
      "name": "python"
    }
  },
  "cells": [
    {
      "cell_type": "markdown",
      "metadata": {
        "id": "view-in-github",
        "colab_type": "text"
      },
      "source": [
        "<a href=\"https://colab.research.google.com/github/BRkrdoso/IAProjectTrader/blob/main/notebooks/ia_experiments.ipynb\" target=\"_parent\"><img src=\"https://colab.research.google.com/assets/colab-badge.svg\" alt=\"Open In Colab\"/></a>"
      ]
    },
    {
      "cell_type": "code",
      "execution_count": null,
      "metadata": {
        "id": "a6ZsXuT6_XVb"
      },
      "outputs": [],
      "source": []
    },
    {
      "cell_type": "code",
      "source": [
        "# IA Project Trader - Experimentos no Colab\n",
        "\n",
        "# Importar bibliotecas\n",
        "import numpy as np\n",
        "import matplotlib.pyplot as plt\n",
        "\n",
        "# Exemplo de função simples\n",
        "def simple_predictor(data):\n",
        "    return np.mean(data)\n",
        "\n",
        "# Testar a função\n",
        "data = [10, 20, 30, 40, 50]\n",
        "result = simple_predictor(data)\n",
        "print(f\"Resultado previsto: {result}\")\n"
      ],
      "metadata": {
        "colab": {
          "base_uri": "https://localhost:8080/"
        },
        "id": "NhCZtKLN_ad6",
        "outputId": "26e1395a-35e9-489a-fb18-d956bde700f1"
      },
      "execution_count": 1,
      "outputs": [
        {
          "output_type": "stream",
          "name": "stdout",
          "text": [
            "Resultado previsto: 30.0\n"
          ]
        }
      ]
    }
  ]
}